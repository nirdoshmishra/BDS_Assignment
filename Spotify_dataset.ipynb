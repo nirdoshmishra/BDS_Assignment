{
 "cells": [
  {
   "cell_type": "code",
   "execution_count": 0,
   "metadata": {
    "application/vnd.databricks.v1+cell": {
     "cellMetadata": {
      "byteLimit": 2048000,
      "rowLimit": 10000
     },
     "inputWidgets": {},
     "nuid": "2ebd0719-f1fb-4c9b-a4f5-a22f0dfef1c1",
     "showTitle": false,
     "title": ""
    }
   },
   "outputs": [
    {
     "output_type": "stream",
     "name": "stdout",
     "output_type": "stream",
     "text": [
      "Python interpreter will be restarted.\nRequirement already satisfied: pyspark in /local_disk0/.ephemeral_nfs/envs/pythonEnv-7cea3ba0-9ab2-47c2-a482-9e54e78bc316/lib/python3.9/site-packages (3.5.0)\nRequirement already satisfied: py4j==0.10.9.7 in /local_disk0/.ephemeral_nfs/envs/pythonEnv-7cea3ba0-9ab2-47c2-a482-9e54e78bc316/lib/python3.9/site-packages (from pyspark) (0.10.9.7)\nPython interpreter will be restarted.\n"
     ]
    }
   ],
   "source": [
    "pip install pyspark"
   ]
  },
  {
   "cell_type": "markdown",
   "metadata": {
    "application/vnd.databricks.v1+cell": {
     "cellMetadata": {},
     "inputWidgets": {},
     "nuid": "65c362cb-7fbe-41ec-8cea-714d2981477d",
     "showTitle": false,
     "title": ""
    }
   },
   "source": [
    "### About the Dataset\n",
    "\n",
    "\n",
    "\n",
    "This dataset provides comprehensive information about Spotify tracks encompassing a diverse collection of 125 genres. It has been compiled and cleaned using Spotify's Web API and Python. Presented in CSV format, this dataset is easily accessible and amenable to analysis. The dataset comprises multiple columns, each representing distinctive audio features associated with individual tracks.\n",
    "\n"
   ]
  },
  {
   "cell_type": "markdown",
   "metadata": {
    "application/vnd.databricks.v1+cell": {
     "cellMetadata": {},
     "inputWidgets": {},
     "nuid": "2efd0e8e-1508-4a04-a332-b60411217e20",
     "showTitle": false,
     "title": ""
    }
   },
   "source": [
    "#### Knowing the Data\n",
    "\n",
    "| Column Name      | Description                                                                                                                     |\n",
    "|------------------|---------------------------------------------------------------------------------------------------------------------------------|\n",
    "| artists          | The name(s) of the artist(s) associated with the track. (String)                                                                |\n",
    "| album_name       | The name of the album that the track belongs to. (String)                                                                       |\n",
    "| track_name       | The name of the track. (String)                                                                                                 |\n",
    "| popularity       | The popularity score of the track on Spotify, ranging from 0 to 100. (Integer)                                                  |\n",
    "| duration_ms      | The duration of the track in milliseconds. (Integer)                                                                            |\n",
    "| explicit         | A boolean value indicating whether the track contains explicit content. (Boolean)                                               |\n",
    "| danceability     | A score ranging from 0 to 1 that represents how suitable a track is for dancing based on various musical elements. (Float)      |\n",
    "| energy           | A measure of the intensity and activity of a track, ranging from 0 to 1. (Float)                                                |\n",
    "| key              | The key of the track represented by an integer value. (Integer)                                                                 |\n",
    "| loudness         | The loudness of the track in decibels (dB). (Float)                                                                             |\n",
    "| mode             | The tonal mode of the track, represented by an integer value (0 for minor, 1 for major). (Integer)                              |\n",
    "| speechiness      | A score ranging from 0 to 1 that represents the presence of spoken words in a track. (Float)                                    |\n",
    "| acousticness     | A score ranging from 0 to 1 that represents the extent to which a track possesses an acoustic quality. (Float)                  |\n",
    "| instrumentalness | A score ranging from 0 to 1 that represents the likelihood of a track being instrumental. (Float)                               |\n",
    "| liveness         | A score ranging from 0 to 1 that represents the presence of an audience during the recording or performance of a track. (Float) |\n",
    "| valence          | A score ranging from 0 to 1 that represents the musical positiveness conveyed by a track. (Float)                               |\n",
    "| tempo            | The tempo of the track in beats per minute (BPM). (Float)                                                                       |\n",
    "| time_signature   | The number of beats within each bar of the track. (Integer)                                                                     |\n",
    "| track_genre      | The genre of the track. (String)                                                                                                |"
   ]
  },
  {
   "cell_type": "code",
   "execution_count": 0,
   "metadata": {
    "application/vnd.databricks.v1+cell": {
     "cellMetadata": {
      "byteLimit": 2048000,
      "rowLimit": 10000
     },
     "inputWidgets": {},
     "nuid": "e70cb7d8-a1b5-4895-a5df-865e9de62206",
     "showTitle": false,
     "title": ""
    }
   },
   "outputs": [],
   "source": [
    "# Load necessary libraries\n",
    "from pyspark.sql import SparkSession\n",
    "from pyspark.sql.functions import desc\n",
    "\n",
    "\n",
    "\n",
    "# Create a Spark session\n",
    "spark = SparkSession.builder.appName(\"SpotifyAnalysis\").getOrCreate()\n",
    "\n",
    "# Read the CSV file into a DataFrame\n",
    "spotify_df = spark.read.csv('/FileStore/tables/train-1.csv',header=True,inferSchema=True)\n",
    "\n",
    "# Load CSV data into a DataFrame\n",
    "#spotify_df = spark.read.csv(\"D:/M.Tech BITS Pilani/Semester 3/Big Data Systems (S1-23_DSEOGZG522)/Assignment/Spotify/train.csv\", header=True, inferSchema=True)\n",
    "\n"
   ]
  },
  {
   "cell_type": "markdown",
   "metadata": {
    "application/vnd.databricks.v1+cell": {
     "cellMetadata": {},
     "inputWidgets": {},
     "nuid": "4d7269b2-d497-42c3-a422-dcc5f93eb683",
     "showTitle": false,
     "title": ""
    }
   },
   "source": [
    "Data at Glance"
   ]
  },
  {
   "cell_type": "code",
   "execution_count": 0,
   "metadata": {
    "application/vnd.databricks.v1+cell": {
     "cellMetadata": {
      "byteLimit": 2048000,
      "rowLimit": 10000
     },
     "inputWidgets": {},
     "nuid": "88b8f66a-8281-4510-aed2-0451081d6978",
     "showTitle": false,
     "title": ""
    }
   },
   "outputs": [
    {
     "output_type": "stream",
     "name": "stdout",
     "output_type": "stream",
     "text": [
      "+----------+--------------------+--------------------+--------------------+--------------------+----------+-----------+--------+------------+------+---+--------+----+-----------+------------+----------------+--------+-------+-------+--------------+-----------+\n|Unnamed: 0|            track_id|             artists|          album_name|          track_name|popularity|duration_ms|explicit|danceability|energy|key|loudness|mode|speechiness|acousticness|instrumentalness|liveness|valence|  tempo|time_signature|track_genre|\n+----------+--------------------+--------------------+--------------------+--------------------+----------+-----------+--------+------------+------+---+--------+----+-----------+------------+----------------+--------+-------+-------+--------------+-----------+\n|         0|5SuOikwiRyPMVoIQD...|         Gen Hoshino|              Comedy|              Comedy|        73|     230666|   False|       0.676| 0.461|  1|  -6.746|   0|      0.143|      0.0322|         1.01E-6|   0.358|  0.715| 87.917|           4.0|   acoustic|\n|         1|4qPNDBW1i3p13qLCt...|        Ben Woodward|    Ghost (Acoustic)|    Ghost - Acoustic|        55|     149610|   False|        0.42| 0.166|  1| -17.235|   1|     0.0763|       0.924|         5.56E-6|   0.101|  0.267| 77.489|           4.0|   acoustic|\n|         2|1iJBSr7s7jYXzM8EG...|Ingrid Michaelson...|      To Begin Again|      To Begin Again|        57|     210826|   False|       0.438| 0.359|  0|  -9.734|   1|     0.0557|        0.21|             0.0|   0.117|   0.12| 76.332|           4.0|   acoustic|\n|         3|6lfxq3CG4xtTiEg7o...|        Kina Grannis|Crazy Rich Asians...|Can't Help Fallin...|        71|     201933|   False|       0.266|0.0596|  0| -18.515|   1|     0.0363|       0.905|         7.07E-5|   0.132|  0.143| 181.74|           3.0|   acoustic|\n|         4|5vjLSffimiIP26QG5...|    Chord Overstreet|             Hold On|             Hold On|        82|     198853|   False|       0.618| 0.443|  2|  -9.681|   1|     0.0526|       0.469|             0.0|  0.0829|  0.167|119.949|           4.0|   acoustic|\n+----------+--------------------+--------------------+--------------------+--------------------+----------+-----------+--------+------------+------+---+--------+----+-----------+------------+----------------+--------+-------+-------+--------------+-----------+\nonly showing top 5 rows\n\n"
     ]
    }
   ],
   "source": [
    "spotify_df.show(5)"
   ]
  },
  {
   "cell_type": "markdown",
   "metadata": {
    "application/vnd.databricks.v1+cell": {
     "cellMetadata": {
      "byteLimit": 2048000,
      "rowLimit": 10000
     },
     "inputWidgets": {},
     "nuid": "00c8d479-540b-4be4-a992-05b2630edc93",
     "showTitle": false,
     "title": ""
    }
   },
   "source": [
    "####Query 1: Identify High-Potential Genres for Marketing and Promotion"
   ]
  },
  {
   "cell_type": "code",
   "execution_count": 0,
   "metadata": {
    "application/vnd.databricks.v1+cell": {
     "cellMetadata": {
      "byteLimit": 2048000,
      "rowLimit": 10000
     },
     "inputWidgets": {},
     "nuid": "51c6e245-0d1b-4df9-946d-36054594352e",
     "showTitle": false,
     "title": ""
    }
   },
   "outputs": [
    {
     "output_type": "stream",
     "name": "stdout",
     "output_type": "stream",
     "text": [
      "+-----------+------------------+\n|track_genre|   avg(popularity)|\n+-----------+------------------+\n|   pop-film|59.287575150300604|\n|      k-pop|            56.896|\n|      chill|            53.651|\n|        sad|            52.379|\n|     grunge|            49.594|\n|     indian|            49.539|\n|      anime|            48.772|\n|        emo|            48.128|\n|  sertanejo|            47.866|\n|        pop|            47.576|\n+-----------+------------------+\n\n"
     ]
    }
   ],
   "source": [
    "# Cache the DataFrame for better performance\n",
    "spotify_df.cache()\n",
    "\n",
    "# Find the top genres based on the average popularity of tracks within each genre\n",
    "high_potential_genres_query = (\n",
    "    spotify_df\n",
    "    .groupBy(\"track_genre\")\n",
    "    .agg({\"popularity\": \"avg\"})\n",
    "    .orderBy(desc(\"avg(popularity)\"))\n",
    "    .limit(10)\n",
    ")\n",
    "\n",
    "high_potential_genres_query.show()\n"
   ]
  },
  {
   "cell_type": "markdown",
   "metadata": {
    "application/vnd.databricks.v1+cell": {
     "cellMetadata": {},
     "inputWidgets": {},
     "nuid": "0bc8b1ee-ebff-4181-a7d8-e6e848da1102",
     "showTitle": false,
     "title": ""
    }
   },
   "source": [
    "#####Business value: Got the insight about the tracks which are more popular and listen by the users. These tracks are best suited for the promotional advertisements. "
   ]
  },
  {
   "cell_type": "markdown",
   "metadata": {
    "application/vnd.databricks.v1+cell": {
     "cellMetadata": {
      "byteLimit": 2048000,
      "rowLimit": 10000
     },
     "inputWidgets": {},
     "nuid": "95693fc6-4f37-4191-a514-a61b5221f940",
     "showTitle": false,
     "title": ""
    }
   },
   "source": [
    "####Query2: Identify Top Artists and Genres by Average Popularity\n",
    "\n",
    "This query helps you identify the top artists and genres with the highest average popularity."
   ]
  },
  {
   "cell_type": "code",
   "execution_count": 0,
   "metadata": {
    "application/vnd.databricks.v1+cell": {
     "cellMetadata": {
      "byteLimit": 2048000,
      "rowLimit": 10000
     },
     "inputWidgets": {},
     "nuid": "e02ef767-1c4f-4a7e-906d-e366b4b39cb4",
     "showTitle": false,
     "title": ""
    }
   },
   "outputs": [
    {
     "output_type": "stream",
     "name": "stdout",
     "output_type": "stream",
     "text": [
      "+--------------------+-----------+---------------+\n|             artists|track_genre|avg(popularity)|\n+--------------------+-----------+---------------+\n|Sam Smith;Kim Petras|      dance|          100.0|\n|Sam Smith;Kim Petras|        pop|          100.0|\n|    Bizarrap;Quevedo|    hip-hop|           99.0|\n|       Manuel Turizo|      latin|           98.0|\n|       Manuel Turizo|     latino|           98.0|\n|       Manuel Turizo|     reggae|           98.0|\n|       Manuel Turizo|  reggaeton|           98.0|\n|Bad Bunny;Chencho...|      latin|           97.0|\n|Bad Bunny;Chencho...|     reggae|           97.0|\n|Bad Bunny;Chencho...|     latino|           97.0|\n+--------------------+-----------+---------------+\n\n"
     ]
    }
   ],
   "source": [
    "\n",
    "\n",
    "top_artists_genres_query = (\n",
    "    spotify_df\n",
    "    .groupBy(\"artists\", \"track_genre\")\n",
    "    .agg({\"popularity\": \"avg\"})\n",
    "    .orderBy(desc(\"avg(popularity)\"))\n",
    "    .limit(10)\n",
    ")\n",
    "\n",
    "top_artists_genres_query.show()\n"
   ]
  },
  {
   "cell_type": "markdown",
   "metadata": {
    "application/vnd.databricks.v1+cell": {
     "cellMetadata": {},
     "inputWidgets": {},
     "nuid": "ff5a16af-8bf2-440f-bb1e-1ebe3909185c",
     "showTitle": false,
     "title": ""
    }
   },
   "source": [
    "#####Business value: It gives us the insight, which artist and tracks are more popular among the users. This insight may be helpful for the business promoter like artist to be approached. Focusing on these artists and genres in marketing and promotions could lead to increased user engagement."
   ]
  },
  {
   "cell_type": "markdown",
   "metadata": {
    "application/vnd.databricks.v1+cell": {
     "cellMetadata": {
      "byteLimit": 2048000,
      "rowLimit": 10000
     },
     "inputWidgets": {},
     "nuid": "2a967d36-a58f-4dac-b14c-35053939c5a1",
     "showTitle": false,
     "title": ""
    }
   },
   "source": [
    "Query 2: Analyze the Impact of Danceability and Energy on Track Popularity"
   ]
  },
  {
   "cell_type": "markdown",
   "metadata": {
    "application/vnd.databricks.v1+cell": {
     "cellMetadata": {
      "byteLimit": 2048000,
      "rowLimit": 10000
     },
     "inputWidgets": {},
     "nuid": "b584d355-85b4-4276-a506-e45618c03696",
     "showTitle": false,
     "title": ""
    }
   },
   "source": [
    "####Query3: Identify the Most Common Keys and Modes\n",
    "\n",
    "Knowing the most common keys and modes in your dataset can help in creating playlists."
   ]
  },
  {
   "cell_type": "code",
   "execution_count": 0,
   "metadata": {
    "application/vnd.databricks.v1+cell": {
     "cellMetadata": {
      "byteLimit": 2048000,
      "rowLimit": 10000
     },
     "inputWidgets": {},
     "nuid": "3d80aff8-f9e6-4f1c-85ef-27f5a3019dc3",
     "showTitle": false,
     "title": ""
    }
   },
   "outputs": [
    {
     "output_type": "stream",
     "name": "stdout",
     "output_type": "stream",
     "text": [
      "+---+----+-----+\n|key|mode|count|\n+---+----+-----+\n|  0|   1|10179|\n|  7|   1|10130|\n|  2|   1| 9052|\n|  1|   1| 7164|\n|  9|   1| 6857|\n|  8|   1| 5436|\n|  5|   1| 5336|\n| 11|   0| 5145|\n|  4|   0| 4724|\n|  9|   0| 4453|\n+---+----+-----+\nonly showing top 10 rows\n\n"
     ]
    }
   ],
   "source": [
    "common_keys_modes_query = (\n",
    "    spotify_df\n",
    "    .groupBy(\"key\", \"mode\")\n",
    "    .count()\n",
    "    .orderBy(desc(\"count\"))\n",
    ")\n",
    "\n",
    "common_keys_modes_query.show(10)\n"
   ]
  },
  {
   "cell_type": "markdown",
   "metadata": {
    "application/vnd.databricks.v1+cell": {
     "cellMetadata": {},
     "inputWidgets": {},
     "nuid": "afeca56c-bbcb-4d68-9d7b-e2fd127b531f",
     "showTitle": false,
     "title": ""
    }
   },
   "source": [
    "#####Business value: It helps us to get insight which key and mode align with popular music trends, contributing to user engagement and satisfaction."
   ]
  },
  {
   "cell_type": "markdown",
   "metadata": {
    "application/vnd.databricks.v1+cell": {
     "cellMetadata": {},
     "inputWidgets": {},
     "nuid": "909d57b2-0525-48f5-9fba-c3c6027f4101",
     "showTitle": false,
     "title": ""
    }
   },
   "source": [
    "####Query4: Track name and Popularity on the basis of specific Artist"
   ]
  },
  {
   "cell_type": "code",
   "execution_count": 0,
   "metadata": {
    "application/vnd.databricks.v1+cell": {
     "cellMetadata": {
      "byteLimit": 2048000,
      "rowLimit": 10000
     },
     "inputWidgets": {},
     "nuid": "104cac46-834a-465e-92b2-01d92ce958b5",
     "showTitle": false,
     "title": ""
    }
   },
   "outputs": [
    {
     "output_type": "stream",
     "name": "stdout",
     "output_type": "stream",
     "text": [
      "+----------------+----------+\n|      track_name|popularity|\n+----------------+----------+\n|       As It Was|        95|\n|Watermelon Sugar|        89|\n|       As It Was|        92|\n+----------------+----------+\n\n"
     ]
    }
   ],
   "source": [
    "from pyspark.sql.functions import col\n",
    "\n",
    "# OLTP Query: Find tracks by a specific artist with popularity greater than a threshold\n",
    "olap_query_result = (\n",
    "    spotify_df\n",
    "    .filter((col(\"artists\") == \"Harry Styles\") & (col(\"popularity\") > 80))\n",
    "    .select(\"track_name\", \"popularity\")\n",
    ")\n",
    "\n",
    "olap_query_result.show()\n"
   ]
  },
  {
   "cell_type": "markdown",
   "metadata": {
    "application/vnd.databricks.v1+cell": {
     "cellMetadata": {},
     "inputWidgets": {},
     "nuid": "1def1f2d-4af0-4acd-916d-312a39e2474e",
     "showTitle": false,
     "title": ""
    }
   },
   "source": [
    "####Query5: Top Genres by Popularity"
   ]
  },
  {
   "cell_type": "code",
   "execution_count": 0,
   "metadata": {
    "application/vnd.databricks.v1+cell": {
     "cellMetadata": {
      "byteLimit": 2048000,
      "rowLimit": 10000
     },
     "inputWidgets": {},
     "nuid": "f46f92a1-679e-44fc-b99b-4c47a049d25a",
     "showTitle": false,
     "title": ""
    }
   },
   "outputs": [
    {
     "output_type": "stream",
     "name": "stdout",
     "output_type": "stream",
     "text": [
      "+-----------+-----+\n|track_genre|count|\n+-----------+-----+\n|      blues| 1000|\n|  dancehall| 1000|\n|  breakbeat| 1000|\n|     brazil| 1000|\n|alternative| 1000|\n|    country| 1000|\n| deep-house| 1000|\n|    ambient| 1000|\n|      chill| 1000|\n|      anime| 1000|\n+-----------+-----+\n\n"
     ]
    }
   ],
   "source": [
    "\n",
    "\n",
    "top_genres_df = spotify_df.groupBy(\"track_genre\").count().orderBy(col(\"count\").desc()).limit(10)\n",
    "top_genres_df.show()\n"
   ]
  }
 ],
 "metadata": {
  "application/vnd.databricks.v1+notebook": {
   "dashboards": [],
   "language": "python",
   "notebookMetadata": {
    "pythonIndentUnit": 4
   },
   "notebookName": "Spotify_dataset",
   "widgets": {}
  },
  "kernelspec": {
   "display_name": "Python 3 (ipykernel)",
   "language": "python",
   "name": "python3"
  },
  "language_info": {
   "codemirror_mode": {
    "name": "ipython",
    "version": 3
   },
   "file_extension": ".py",
   "mimetype": "text/x-python",
   "name": "python",
   "nbconvert_exporter": "python",
   "pygments_lexer": "ipython3",
   "version": "3.9.12"
  }
 },
 "nbformat": 4,
 "nbformat_minor": 0
}
